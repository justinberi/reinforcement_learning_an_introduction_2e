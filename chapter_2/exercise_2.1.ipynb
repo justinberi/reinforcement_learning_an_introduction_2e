{
 "cells": [
  {
   "cell_type": "code",
   "execution_count": 3,
   "id": "35b90db6-8505-462f-9fbd-500c9c3fd78a",
   "metadata": {},
   "outputs": [
    {
     "name": "stdout",
     "output_type": "stream",
     "text": [
      "0.75\n"
     ]
    }
   ],
   "source": [
    "print(0.5 + 0.5*0.5)"
   ]
  },
  {
   "cell_type": "code",
   "execution_count": null,
   "id": "4f8594d2-0346-437e-9723-344d74cf955b",
   "metadata": {},
   "outputs": [],
   "source": []
  }
 ],
 "metadata": {
  "kernelspec": {
   "display_name": "Python 3 (ipykernel)",
   "language": "python",
   "name": "python3"
  },
  "language_info": {
   "codemirror_mode": {
    "name": "ipython",
    "version": 3
   },
   "file_extension": ".py",
   "mimetype": "text/x-python",
   "name": "python",
   "nbconvert_exporter": "python",
   "pygments_lexer": "ipython3",
   "version": "3.9.6"
  }
 },
 "nbformat": 4,
 "nbformat_minor": 5
}
