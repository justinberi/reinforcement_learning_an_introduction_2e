{
 "cells": [
  {
   "cell_type": "code",
   "execution_count": 1,
   "id": "2a35689d-075b-441d-9c01-7e359e587236",
   "metadata": {},
   "outputs": [],
   "source": [
    "%matplotlib widget"
   ]
  },
  {
   "cell_type": "code",
   "execution_count": 2,
   "id": "92d2a02b-497d-47ff-b392-655744040f09",
   "metadata": {},
   "outputs": [
    {
     "data": {
      "application/vnd.jupyter.widget-view+json": {
       "model_id": "e7542fb4fe834f52839d1625bdb7af53",
       "version_major": 2,
       "version_minor": 0
      },
      "text/plain": [
       "Canvas(toolbar=Toolbar(toolitems=[('Home', 'Reset original view', 'home', 'home'), ('Back', 'Back to previous …"
      ]
     },
     "metadata": {},
     "output_type": "display_data"
    },
    {
     "name": "stdout",
     "output_type": "stream",
     "text": [
      "A number : 0.75\n"
     ]
    }
   ],
   "source": [
    "import matplotlib.pyplot as plt\n",
    "plt.plot([1,2,3]);\n",
    "print(\"A number :\", 0.5 + 0.5*0.5)"
   ]
  },
  {
   "cell_type": "code",
   "execution_count": 9,
   "id": "fbcf85c3-568e-4696-947a-a840bf655131",
   "metadata": {},
   "outputs": [],
   "source": [
    "a = [[] for i in range(10)]"
   ]
  },
  {
   "cell_type": "code",
   "execution_count": 10,
   "id": "f27fa44e-0a2a-4ad5-9d69-346b5650ca8e",
   "metadata": {},
   "outputs": [],
   "source": [
    "a[0].append(1)"
   ]
  },
  {
   "cell_type": "code",
   "execution_count": 3,
   "id": "e7c2002b-0dd8-44d1-94a3-696d730ae970",
   "metadata": {},
   "outputs": [
    {
     "data": {
      "text/plain": [
       "2.0"
      ]
     },
     "execution_count": 3,
     "metadata": {},
     "output_type": "execute_result"
    }
   ],
   "source": [
    "import numpy\n",
    "numpy.mean(a[1])"
   ]
  },
  {
   "cell_type": "code",
   "execution_count": 7,
   "id": "1b75ad9f-3141-4437-b8fb-8e13bfbd347d",
   "metadata": {},
   "outputs": [
    {
     "data": {
      "text/plain": [
       "False"
      ]
     },
     "execution_count": 7,
     "metadata": {},
     "output_type": "execute_result"
    }
   ],
   "source": [
    "a = [1,2,3]\n",
    "a == 1\n",
    "numpy.where(a==1)\n",
    "a == [True,False,False]"
   ]
  }
 ],
 "metadata": {
  "kernelspec": {
   "display_name": "Python 3 (ipykernel)",
   "language": "python",
   "name": "python3"
  },
  "language_info": {
   "codemirror_mode": {
    "name": "ipython",
    "version": 3
   },
   "file_extension": ".py",
   "mimetype": "text/x-python",
   "name": "python",
   "nbconvert_exporter": "python",
   "pygments_lexer": "ipython3",
   "version": "3.9.6"
  }
 },
 "nbformat": 4,
 "nbformat_minor": 5
}
